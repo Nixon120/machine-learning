{
 "cells": [
  {
   "cell_type": "markdown",
   "id": "b13786e5",
   "metadata": {},
   "source": [
    "# yt-spam-comments\n",
    "\n",
    "Using machine learning to fight crypto-spam on YouTube!"
   ]
  },
  {
   "cell_type": "markdown",
   "id": "b6afbb98",
   "metadata": {},
   "source": [
    "## Preparations\n",
    "Importing libraries, debug information, ..."
   ]
  },
  {
   "cell_type": "code",
   "execution_count": 4,
   "id": "9c09e6ad",
   "metadata": {},
   "outputs": [],
   "source": [
    "import tensorflow as tf\n",
    "import tensorflow_hub as hub\n",
    "import pandas as pd\n",
    "import seaborn as sns\n",
    "import numpy as np\n",
    "%matplotlib inline\n",
    "from sklearn.model_selection import train_test_split"
   ]
  },
  {
   "cell_type": "code",
   "execution_count": 5,
   "id": "effe7c05",
   "metadata": {},
   "outputs": [
    {
     "name": "stdout",
     "output_type": "stream",
     "text": [
      "Version:  2.5.0\n",
      "Eager mode:  True\n",
      "Hub version:  0.12.0\n",
      "GPU is NOT AVAILABLE\n"
     ]
    }
   ],
   "source": [
    "print(\"Version: \", tf.__version__)\n",
    "print(\"Eager mode: \", tf.executing_eagerly())\n",
    "print(\"Hub version: \", hub.__version__)\n",
    "print(\"GPU is\", \"available\" if tf.config.list_physical_devices('GPU') else \"NOT AVAILABLE\")"
   ]
  },
  {
   "cell_type": "markdown",
   "id": "04bba15e",
   "metadata": {},
   "source": [
    "### Loading the dataset"
   ]
  },
  {
   "cell_type": "code",
   "execution_count": 9,
   "id": "ed87d147",
   "metadata": {},
   "outputs": [
    {
     "data": {
      "text/html": [
       "<div>\n",
       "<style scoped>\n",
       "    .dataframe tbody tr th:only-of-type {\n",
       "        vertical-align: middle;\n",
       "    }\n",
       "\n",
       "    .dataframe tbody tr th {\n",
       "        vertical-align: top;\n",
       "    }\n",
       "\n",
       "    .dataframe thead th {\n",
       "        text-align: right;\n",
       "    }\n",
       "</style>\n",
       "<table border=\"1\" class=\"dataframe\">\n",
       "  <thead>\n",
       "    <tr style=\"text-align: right;\">\n",
       "      <th></th>\n",
       "      <th>Comment</th>\n",
       "      <th>Spam</th>\n",
       "    </tr>\n",
       "  </thead>\n",
       "  <tbody>\n",
       "    <tr>\n",
       "      <th>211</th>\n",
       "      <td>Savjeeeeeee💩💩</td>\n",
       "      <td>0.0</td>\n",
       "    </tr>\n",
       "    <tr>\n",
       "      <th>238</th>\n",
       "      <td>Thanks! Really appreciate your kind words!</td>\n",
       "      <td>0.0</td>\n",
       "    </tr>\n",
       "    <tr>\n",
       "      <th>250</th>\n",
       "      <td>When you create a new container in Docker you ...</td>\n",
       "      <td>0.0</td>\n",
       "    </tr>\n",
       "    <tr>\n",
       "      <th>255</th>\n",
       "      <td>+tony davies (tgrrr) No, Bitbucket Pipelines i...</td>\n",
       "      <td>0.0</td>\n",
       "    </tr>\n",
       "    <tr>\n",
       "      <th>256</th>\n",
       "      <td>I guess that would be possible yes. But why wo...</td>\n",
       "      <td>0.0</td>\n",
       "    </tr>\n",
       "    <tr>\n",
       "      <th>...</th>\n",
       "      <td>...</td>\n",
       "      <td>...</td>\n",
       "    </tr>\n",
       "    <tr>\n",
       "      <th>15549</th>\n",
       "      <td>Scammer</td>\n",
       "      <td>0.0</td>\n",
       "    </tr>\n",
       "    <tr>\n",
       "      <th>15564</th>\n",
       "      <td>SO proof of work the power is on big miners.\\n...</td>\n",
       "      <td>0.0</td>\n",
       "    </tr>\n",
       "    <tr>\n",
       "      <th>15565</th>\n",
       "      <td>Perfectly explained. The miracle of simplicity...</td>\n",
       "      <td>0.0</td>\n",
       "    </tr>\n",
       "    <tr>\n",
       "      <th>15566</th>\n",
       "      <td>Nicely explained</td>\n",
       "      <td>0.0</td>\n",
       "    </tr>\n",
       "    <tr>\n",
       "      <th>15569</th>\n",
       "      <td>Unlike bacteria, viruses are not alive, so how...</td>\n",
       "      <td>0.0</td>\n",
       "    </tr>\n",
       "  </tbody>\n",
       "</table>\n",
       "<p>1725 rows × 2 columns</p>\n",
       "</div>"
      ],
      "text/plain": [
       "                                                 Comment  Spam\n",
       "211                                        Savjeeeeeee💩💩   0.0\n",
       "238           Thanks! Really appreciate your kind words!   0.0\n",
       "250    When you create a new container in Docker you ...   0.0\n",
       "255    +tony davies (tgrrr) No, Bitbucket Pipelines i...   0.0\n",
       "256    I guess that would be possible yes. But why wo...   0.0\n",
       "...                                                  ...   ...\n",
       "15549                                            Scammer   0.0\n",
       "15564  SO proof of work the power is on big miners.\\n...   0.0\n",
       "15565  Perfectly explained. The miracle of simplicity...   0.0\n",
       "15566                                   Nicely explained   0.0\n",
       "15569  Unlike bacteria, viruses are not alive, so how...   0.0\n",
       "\n",
       "[1725 rows x 2 columns]"
      ]
     },
     "execution_count": 9,
     "metadata": {},
     "output_type": "execute_result"
    }
   ],
   "source": [
    "csv = pd.read_csv(\n",
    "    \"../02-rated-comments/rated-comments.csv\",\n",
    "    delimiter=\";\"\n",
    ")\n",
    "\n",
    "# DataFrame with only \"Comment\" and \"Spam\" columns\n",
    "df = csv[[\"Comment\", \"Spam\"]]\n",
    "\n",
    "# Remove all comments that have no ratings\n",
    "df = df.dropna()\n",
    "\n",
    "# Show what we got\n",
    "df"
   ]
  },
  {
   "cell_type": "markdown",
   "id": "03899689",
   "metadata": {},
   "source": [
    "Checking how many spam/not spam comments we have in the dataset."
   ]
  },
  {
   "cell_type": "code",
   "execution_count": 10,
   "id": "1a67773a",
   "metadata": {},
   "outputs": [
    {
     "data": {
      "text/plain": [
       "<AxesSubplot:xlabel='Spam', ylabel='count'>"
      ]
     },
     "execution_count": 10,
     "metadata": {},
     "output_type": "execute_result"
    },
    {
     "data": {
      "image/png": "[encoded data removed]",
      "text/plain": [
       "<Figure size 432x288 with 1 Axes>"
      ]
     },
     "metadata": {
      "needs_background": "light"
     },
     "output_type": "display_data"
    }
   ],
   "source": [
    "sns.countplot(x=\"Spam\",data=df)"
   ]
  },
  {
   "cell_type": "markdown",
   "id": "2124c93e",
   "metadata": {},
   "source": [
    "## Split data set into training & validation"
   ]
  },
  {
   "cell_type": "code",
   "execution_count": 11,
   "id": "84b11245",
   "metadata": {},
   "outputs": [],
   "source": [
    "# helps in text preprocessing\n",
    "from tensorflow.keras.preprocessing.sequence import pad_sequences\n",
    "from tensorflow.keras.preprocessing.text import Tokenizer\n",
    "\n",
    "# helps in model building\n",
    "from tensorflow.keras.models import Sequential\n",
    "from tensorflow.keras.layers import Dense\n",
    "from tensorflow.keras.layers import Flatten\n",
    "from tensorflow.keras.layers import Dropout\n",
    "from tensorflow.keras.layers import Embedding\n",
    "from tensorflow.keras.callbacks import EarlyStopping\n",
    "\n",
    "# split data into train and test set\n",
    "from sklearn.model_selection import train_test_split"
   ]
  },
  {
   "cell_type": "code",
   "execution_count": 12,
   "id": "8c178ddd",
   "metadata": {},
   "outputs": [
    {
     "name": "stdout",
     "output_type": "stream",
     "text": [
      "1380\n",
      "345\n"
     ]
    }
   ],
   "source": [
    "X = df['Comment'].values\n",
    "y = df['Spam'].values\n",
    "X_train, X_test, y_train, y_test = train_test_split(X, y, test_size=0.20, random_state=42)\n",
    "\n",
    "print(len(X_train))\n",
    "print(len(X_test))"
   ]
  },
  {
   "cell_type": "markdown",
   "id": "6430d8e6",
   "metadata": {},
   "source": [
    "## Building the model"
   ]
  },
  {
   "cell_type": "code",
   "execution_count": 13,
   "id": "dbecbbe9",
   "metadata": {
    "scrolled": true
   },
   "outputs": [
    {
     "name": "stdout",
     "output_type": "stream",
     "text": [
      "Model: \"sequential\"\n",
      "_________________________________________________________________\n",
      "Layer (type)                 Output Shape              Param #   \n",
      "=================================================================\n",
      "keras_layer (KerasLayer)     (None, 50)                48190600  \n",
      "_________________________________________________________________\n",
      "dense (Dense)                (None, 16)                816       \n",
      "_________________________________________________________________\n",
      "dense_1 (Dense)              (None, 1)                 17        \n",
      "=================================================================\n",
      "Total params: 48,191,433\n",
      "Trainable params: 48,191,433\n",
      "Non-trainable params: 0\n",
      "_________________________________________________________________\n",
      "None\n"
     ]
    }
   ],
   "source": [
    "model = \"https://tfhub.dev/google/nnlm-en-dim50/2\"\n",
    "hub_layer = hub.KerasLayer(model, input_shape=[], dtype=tf.string, trainable=True)\n",
    "\n",
    "model = tf.keras.Sequential()\n",
    "model.add(hub_layer)\n",
    "model.add(tf.keras.layers.Dense(16, activation='relu'))\n",
    "model.add(tf.keras.layers.Dense(1, activation='sigmoid'))\n",
    "\n",
    "print(model.summary())"
   ]
  },
  {
   "cell_type": "markdown",
   "id": "2fed657c",
   "metadata": {},
   "source": [
    "## Training"
   ]
  },
  {
   "cell_type": "code",
   "execution_count": 14,
   "id": "f970e1c1",
   "metadata": {},
   "outputs": [
    {
     "name": "stdout",
     "output_type": "stream",
     "text": [
      "Epoch 1/40\n",
      "3/3 [==============================] - 2s 393ms/step - loss: 0.6723 - accuracy: 0.6355 - val_loss: 0.6439 - val_accuracy: 0.6986\n",
      "Epoch 2/40\n",
      "3/3 [==============================] - 1s 306ms/step - loss: 0.6264 - accuracy: 0.7507 - val_loss: 0.6153 - val_accuracy: 0.7507\n",
      "Epoch 3/40\n",
      "3/3 [==============================] - 1s 310ms/step - loss: 0.5935 - accuracy: 0.7986 - val_loss: 0.5928 - val_accuracy: 0.7942\n",
      "Epoch 4/40\n",
      "3/3 [==============================] - 1s 310ms/step - loss: 0.5651 - accuracy: 0.8297 - val_loss: 0.5725 - val_accuracy: 0.8058\n",
      "Epoch 5/40\n",
      "3/3 [==============================] - 1s 310ms/step - loss: 0.5386 - accuracy: 0.8478 - val_loss: 0.5538 - val_accuracy: 0.8087\n",
      "Epoch 6/40\n",
      "3/3 [==============================] - 1s 334ms/step - loss: 0.5130 - accuracy: 0.8572 - val_loss: 0.5366 - val_accuracy: 0.8232\n",
      "Epoch 7/40\n",
      "3/3 [==============================] - 1s 418ms/step - loss: 0.4881 - accuracy: 0.8703 - val_loss: 0.5195 - val_accuracy: 0.8290\n",
      "Epoch 8/40\n",
      "3/3 [==============================] - 1s 354ms/step - loss: 0.4631 - accuracy: 0.8899 - val_loss: 0.5032 - val_accuracy: 0.8377\n",
      "Epoch 9/40\n",
      "3/3 [==============================] - 1s 490ms/step - loss: 0.4389 - accuracy: 0.9043 - val_loss: 0.4880 - val_accuracy: 0.8464\n",
      "Epoch 10/40\n",
      "3/3 [==============================] - 1s 341ms/step - loss: 0.4149 - accuracy: 0.9138 - val_loss: 0.4729 - val_accuracy: 0.8522\n",
      "Epoch 11/40\n",
      "3/3 [==============================] - 1s 414ms/step - loss: 0.3912 - accuracy: 0.9196 - val_loss: 0.4589 - val_accuracy: 0.8609\n",
      "Epoch 12/40\n",
      "3/3 [==============================] - 1s 398ms/step - loss: 0.3680 - accuracy: 0.9283 - val_loss: 0.4457 - val_accuracy: 0.8667\n",
      "Epoch 13/40\n",
      "3/3 [==============================] - 1s 318ms/step - loss: 0.3456 - accuracy: 0.9391 - val_loss: 0.4333 - val_accuracy: 0.8754\n",
      "Epoch 14/40\n",
      "3/3 [==============================] - 1s 310ms/step - loss: 0.3235 - accuracy: 0.9500 - val_loss: 0.4215 - val_accuracy: 0.8696\n",
      "Epoch 15/40\n",
      "3/3 [==============================] - 1s 313ms/step - loss: 0.3022 - accuracy: 0.9551 - val_loss: 0.4104 - val_accuracy: 0.8696\n",
      "Epoch 16/40\n",
      "3/3 [==============================] - 1s 322ms/step - loss: 0.2811 - accuracy: 0.9616 - val_loss: 0.3999 - val_accuracy: 0.8754\n",
      "Epoch 17/40\n",
      "3/3 [==============================] - 1s 317ms/step - loss: 0.2610 - accuracy: 0.9630 - val_loss: 0.3904 - val_accuracy: 0.8754\n",
      "Epoch 18/40\n",
      "3/3 [==============================] - 1s 314ms/step - loss: 0.2420 - accuracy: 0.9681 - val_loss: 0.3824 - val_accuracy: 0.8754\n",
      "Epoch 19/40\n",
      "3/3 [==============================] - 1s 317ms/step - loss: 0.2239 - accuracy: 0.9696 - val_loss: 0.3745 - val_accuracy: 0.8754\n",
      "Epoch 20/40\n",
      "3/3 [==============================] - 1s 308ms/step - loss: 0.2069 - accuracy: 0.9754 - val_loss: 0.3675 - val_accuracy: 0.8812\n",
      "Epoch 21/40\n",
      "3/3 [==============================] - 1s 312ms/step - loss: 0.1903 - accuracy: 0.9804 - val_loss: 0.3614 - val_accuracy: 0.8841\n",
      "Epoch 22/40\n",
      "3/3 [==============================] - 1s 310ms/step - loss: 0.1749 - accuracy: 0.9833 - val_loss: 0.3561 - val_accuracy: 0.8870\n",
      "Epoch 23/40\n",
      "3/3 [==============================] - 1s 311ms/step - loss: 0.1605 - accuracy: 0.9870 - val_loss: 0.3518 - val_accuracy: 0.8899\n",
      "Epoch 24/40\n",
      "3/3 [==============================] - 1s 305ms/step - loss: 0.1472 - accuracy: 0.9899 - val_loss: 0.3481 - val_accuracy: 0.8899\n",
      "Epoch 25/40\n",
      "3/3 [==============================] - 1s 320ms/step - loss: 0.1345 - accuracy: 0.9906 - val_loss: 0.3456 - val_accuracy: 0.8899\n",
      "Epoch 26/40\n",
      "3/3 [==============================] - 1s 317ms/step - loss: 0.1229 - accuracy: 0.9906 - val_loss: 0.3431 - val_accuracy: 0.8957\n",
      "Epoch 27/40\n",
      "3/3 [==============================] - 1s 479ms/step - loss: 0.1124 - accuracy: 0.9928 - val_loss: 0.3413 - val_accuracy: 0.8928\n",
      "Epoch 28/40\n",
      "3/3 [==============================] - 1s 324ms/step - loss: 0.1024 - accuracy: 0.9935 - val_loss: 0.3406 - val_accuracy: 0.8928\n",
      "Epoch 29/40\n",
      "3/3 [==============================] - 1s 324ms/step - loss: 0.0934 - accuracy: 0.9949 - val_loss: 0.3401 - val_accuracy: 0.8928\n",
      "Epoch 30/40\n",
      "3/3 [==============================] - 1s 320ms/step - loss: 0.0851 - accuracy: 0.9957 - val_loss: 0.3416 - val_accuracy: 0.8928\n",
      "Epoch 31/40\n",
      "3/3 [==============================] - 1s 322ms/step - loss: 0.0774 - accuracy: 0.9964 - val_loss: 0.3429 - val_accuracy: 0.8928\n",
      "Epoch 32/40\n",
      "3/3 [==============================] - 1s 323ms/step - loss: 0.0704 - accuracy: 0.9971 - val_loss: 0.3443 - val_accuracy: 0.8899\n",
      "Epoch 33/40\n",
      "3/3 [==============================] - 1s 319ms/step - loss: 0.0639 - accuracy: 0.9971 - val_loss: 0.3463 - val_accuracy: 0.8928\n",
      "Epoch 34/40\n",
      "3/3 [==============================] - 1s 321ms/step - loss: 0.0580 - accuracy: 0.9978 - val_loss: 0.3498 - val_accuracy: 0.8928\n",
      "Epoch 35/40\n",
      "3/3 [==============================] - 1s 406ms/step - loss: 0.0526 - accuracy: 0.9978 - val_loss: 0.3518 - val_accuracy: 0.8928\n",
      "Epoch 36/40\n",
      "3/3 [==============================] - 1s 313ms/step - loss: 0.0476 - accuracy: 0.9978 - val_loss: 0.3563 - val_accuracy: 0.8928\n",
      "Epoch 37/40\n",
      "3/3 [==============================] - 1s 515ms/step - loss: 0.0431 - accuracy: 0.9978 - val_loss: 0.3609 - val_accuracy: 0.8928\n",
      "Epoch 38/40\n",
      "3/3 [==============================] - 1s 339ms/step - loss: 0.0390 - accuracy: 0.9978 - val_loss: 0.3655 - val_accuracy: 0.8928\n",
      "Epoch 39/40\n",
      "3/3 [==============================] - 1s 369ms/step - loss: 0.0352 - accuracy: 0.9978 - val_loss: 0.3686 - val_accuracy: 0.8899\n",
      "Epoch 00039: early stopping\n"
     ]
    },
    {
     "data": {
      "text/plain": [
       "<tensorflow.python.keras.callbacks.History at 0x165e561c0>"
      ]
     },
     "execution_count": 14,
     "metadata": {},
     "output_type": "execute_result"
    }
   ],
   "source": [
    "early_stop = EarlyStopping(monitor='val_loss', mode='min', verbose=1, patience=10)\n",
    "\n",
    "model.compile(optimizer='rmsprop', loss='binary_crossentropy', metrics=['accuracy'])\n",
    "\n",
    "# fit the model\n",
    "model.fit(X_train,\n",
    "         y_train,\n",
    "         epochs=40,\n",
    "         batch_size=512,\n",
    "         validation_data=(X_test, y_test),\n",
    "         verbose=1,\n",
    "         callbacks=[early_stop]\n",
    ")"
   ]
  },
  {
   "cell_type": "markdown",
   "id": "6e3baba8",
   "metadata": {},
   "source": [
    "## Save model to disk\n",
    "This will later be used in the AWS Lambda backend to periodically fetch comments & mark them as spam"
   ]
  },
  {
   "cell_type": "code",
   "execution_count": 21,
   "id": "ed5feed3",
   "metadata": {},
   "outputs": [],
   "source": [
    "model.save(\"trained-model.h5\")\n",
    "model.save(\"../04-inference/trained-model.h5\")"
   ]
  },
  {
   "cell_type": "markdown",
   "id": "e49f5ae7",
   "metadata": {},
   "source": [
    "## Test"
   ]
  },
  {
   "cell_type": "code",
   "execution_count": 22,
   "id": "c52b73f9",
   "metadata": {},
   "outputs": [
    {
     "name": "stdout",
     "output_type": "stream",
     "text": [
      "Spam - 0.998727 - That's nice, thanks for replying, you can send a message to my administrator on watsap to earn in crypto especially Bitcoin ...+‪..1..6.1..3..6.0..4..5..7..4..7 He's excellent at what he does, tell him referred you to him. His passionate strategies are top notch the ✌️🇺🇸\n",
      "\n",
      "Spam - 0.994014 - I’m so happy I met RM_KESH01 on Insta he help me recover my lost Erc20 sent to a wrong network I’m so happy because his trusted and reliableThis is wonderful and unbelievable just got my Bitcoin account back through Doavercracks on ig thanks a lot really appreciate it.\n",
      "\n",
      "Spam - 0.931153 - I recommend y’all to Doavercracks on IG.\n",
      "\n",
      "HAM - 0.441938 - BTC price to volatiles swing, making it historically popular for traders to speculate on. According to bitcoin having cycles, there should be at least other four months in this bull run, so, if the Pi indicator (and bitcoin) might repeat a similar bull run to 2013,that would mean a local top relatively close in time and then another top to end the bull run towards mid year, investor's and trader's find it difficult to decide how best to utilize the current market, holding is profitable but trading is far more profitable, I was able to grasp knowledge of trading crypto assets earlier enough, I didn't think it was possible to make constant win from trading till I come across Mrs milly program for investor's and newbies who lack understanding on how trading BTC works, to help them stack up more bitcoin, since late last year till date I have made over 19BTC from 2.6BTC with Mrs milly's help, you can easily get to her with this WhatsApp number +1-2-1-0-8-0-6-4-8-8-9\n",
      "\n",
      "Spam - 0.677589 - Never thought it was possible to recover my lost btc until I meet victoolz on insta who helped me...\n",
      "\n",
      "Spam - 0.922504 - Can’t recommend him enough for his tireless effort and tremendous job done Doavercracks on IG his truly the best 💯💯\n",
      "\n",
      "Spam - 0.504149 - 𝟰𝗕𝗧𝗖 𝘄𝗮𝘀 𝘀𝗲𝗻𝘁 𝘁𝗼 𝗺𝘆 𝗯𝗹𝗼𝗰𝗸𝗰𝗵𝗮𝗶𝗻 𝗮𝗰𝗰𝗼𝘂𝗻𝘁 𝗜'𝗺 𝘁𝗵𝗮𝗻𝗸𝗶𝗻𝗴 𝗚𝗼𝗱  𝗳𝗼𝗿 𝘀𝗲𝗻𝗱𝗶𝗻𝗴 𝗜𝗢𝗦𝗧𝗢𝗢𝗟𝗦 𝗼𝗻 !𝗚 𝗳𝗼𝗿 𝘀𝗮𝘃𝗶𝗻𝗴 𝗺𝘆 𝗹𝗶𝗳𝗲\n",
      "\n",
      "Spam - 0.986945 - Another 0.05682 bitcoin was recover by this Dude *DANTECHIES* on instagram, I appreciate the work he did for me..\n",
      "\n",
      "HAM - 0.435149 - 😭😢😭😭 *core_cyber* on Instagram just made me proud, thank you so much sir..\n",
      "\n",
      "HAM - 0.039059 - Amazing video!\n",
      "\n",
      "HAM - 0.028508 - Maybe to make proof of stake system more democraric we can think about share a certain amount of money the validator get to all the other validators?\n",
      "\n",
      "HAM - 0.061911 - I don’t get it 😅😂\n",
      "\n",
      "HAM - 0.015522 - Watching this video as El Salvador 🇸🇻 just made bitcoin a legal tender..lol\n",
      "\n",
      "Spam - 0.859814 - Xavier is wonderful, I traded with him and made huge profits\n",
      "\n",
      "Spam - 0.872874 - Contact Mr. Decuyper on msgnr for advice\n",
      "\n"
     ]
    }
   ],
   "source": [
    "sms = [\n",
    "    # Seen before\n",
    "    \"That's nice, thanks for replying, you can send a message to my administrator on watsap to earn in crypto especially Bitcoin ...+\\u202a..1..6.1..3..6.0..4..5..7..4..7 He's excellent at what he does, tell him referred you to him. His passionate strategies are top notch the ✌️🇺🇸\",\n",
    "    \n",
    "    # New spam\n",
    "    \"I’m so happy I met RM_KESH01 on Insta he help me recover my lost Erc20 sent to a wrong network I’m so happy because his trusted and reliable\"\n",
    "    \"This is wonderful and unbelievable just got my Bitcoin account back through Doavercracks on ig thanks a lot really appreciate it.\",\n",
    "    \"I recommend y’all to Doavercracks on IG.\",\n",
    "    \"BTC price to volatiles swing, making it historically popular for traders to speculate on. According to bitcoin having cycles, there should be at least other four months in this bull run, so, if the Pi indicator (and bitcoin) might repeat a similar bull run to 2013,that would mean a local top relatively close in time and then another top to end the bull run towards mid year, investor's and trader's find it difficult to decide how best to utilize the current market, holding is profitable but trading is far more profitable, I was able to grasp knowledge of trading crypto assets earlier enough, I didn't think it was possible to make constant win from trading till I come across Mrs milly program for investor's and newbies who lack understanding on how trading BTC works, to help them stack up more bitcoin, since late last year till date I have made over 19BTC from 2.6BTC with Mrs milly's help, you can easily get to her with this WhatsApp number +1-2-1-0-8-0-6-4-8-8-9\",\n",
    "    \"Never thought it was possible to recover my lost btc until I meet victoolz on insta who helped me...\",\n",
    "    \"Can’t recommend him enough for his tireless effort and tremendous job done Doavercracks on IG his truly the best 💯💯\",\n",
    "    \"𝟰𝗕𝗧𝗖 𝘄𝗮𝘀 𝘀𝗲𝗻𝘁 𝘁𝗼 𝗺𝘆 𝗯𝗹𝗼𝗰𝗸𝗰𝗵𝗮𝗶𝗻 𝗮𝗰𝗰𝗼𝘂𝗻𝘁 𝗜'𝗺 𝘁𝗵𝗮𝗻𝗸𝗶𝗻𝗴 𝗚𝗼𝗱  𝗳𝗼𝗿 𝘀𝗲𝗻𝗱𝗶𝗻𝗴 𝗜𝗢𝗦𝗧𝗢𝗢𝗟𝗦 𝗼𝗻 !𝗚 𝗳𝗼𝗿 𝘀𝗮𝘃𝗶𝗻𝗴 𝗺𝘆 𝗹𝗶𝗳𝗲\",\n",
    "    \"Another 0.05682 bitcoin was recover by this Dude *DANTECHIES* on instagram, I appreciate the work he did for me..\",\n",
    "    \"😭😢😭😭 *core_cyber* on Instagram just made me proud, thank you so much sir..\",\n",
    "    \n",
    "    # Not spam\n",
    "    \"Amazing video!\",\n",
    "    \"Maybe to make proof of stake system more democraric we can think about share a certain amount of money the validator get to all the other validators?\",\n",
    "    \"I don’t get it 😅😂\",\n",
    "    \"Watching this video as El Salvador 🇸🇻 just made bitcoin a legal tender..lol\",\n",
    "    \n",
    "    # Made up spam (definitely not seen before)\n",
    "    \"Xavier is wonderful, I traded with him and made huge profits\",\n",
    "    \"Contact Mr. Decuyper on msgnr for advice\"\n",
    "\n",
    "]\n",
    "\n",
    "for test in sms:\n",
    "    out = model.predict([test])\n",
    "    print(\"%s - %f - %s\" % (\"Spam\" if out[0] > 0.5 else \"HAM\", out[0], test))\n",
    "    print()\n"
   ]
  },
  {
   "cell_type": "markdown",
   "id": "814f6664",
   "metadata": {},
   "source": [
    "## Import the layer again for inference (in cloud)\n",
    "Here we pretend to be running in the cloud. We import the h5 file, turn it back into a model and run inference on it again. It should produce the exact same results."
   ]
  },
  {
   "cell_type": "code",
   "execution_count": 18,
   "id": "b5fcc70c",
   "metadata": {},
   "outputs": [
    {
     "name": "stdout",
     "output_type": "stream",
     "text": [
      "True\n",
      "Model: \"sequential\"\n",
      "_________________________________________________________________\n",
      "Layer (type)                 Output Shape              Param #   \n",
      "=================================================================\n",
      "keras_layer (KerasLayer)     (None, 50)                48190600  \n",
      "_________________________________________________________________\n",
      "dense (Dense)                (None, 16)                816       \n",
      "_________________________________________________________________\n",
      "dense_1 (Dense)              (None, 1)                 17        \n",
      "=================================================================\n",
      "Total params: 48,191,433\n",
      "Trainable params: 48,191,433\n",
      "Non-trainable params: 0\n",
      "_________________________________________________________________\n"
     ]
    }
   ],
   "source": [
    "import os.path\n",
    "print(os.path.isfile(\"./trained-model.h5\") )\n",
    "\n",
    "model_prod = tf.keras.models.load_model('./trained-model.h5', custom_objects={'KerasLayer':hub.KerasLayer})\n",
    "model_prod.summary()"
   ]
  },
  {
   "cell_type": "code",
   "execution_count": 29,
   "id": "3633c992",
   "metadata": {},
   "outputs": [
    {
     "name": "stdout",
     "output_type": "stream",
     "text": [
      "Spam - 0.998727 - That's nice, thanks for replying, you can send a message to my administrator on watsap to earn in crypto especially Bitcoin ...+‪..1..6.1..3..6.0..4..5..7..4..7 He's excellent at what he does, tell him referred you to him. His passionate strategies are top notch the ✌️🇺🇸\n",
      "\n",
      "Spam - 0.994014 - I’m so happy I met RM_KESH01 on Insta he help me recover my lost Erc20 sent to a wrong network I’m so happy because his trusted and reliableThis is wonderful and unbelievable just got my Bitcoin account back through Doavercracks on ig thanks a lot really appreciate it.\n",
      "\n",
      "Spam - 0.931153 - I recommend y’all to Doavercracks on IG.\n",
      "\n",
      "HAM - 0.441938 - BTC price to volatiles swing, making it historically popular for traders to speculate on. According to bitcoin having cycles, there should be at least other four months in this bull run, so, if the Pi indicator (and bitcoin) might repeat a similar bull run to 2013,that would mean a local top relatively close in time and then another top to end the bull run towards mid year, investor's and trader's find it difficult to decide how best to utilize the current market, holding is profitable but trading is far more profitable, I was able to grasp knowledge of trading crypto assets earlier enough, I didn't think it was possible to make constant win from trading till I come across Mrs milly program for investor's and newbies who lack understanding on how trading BTC works, to help them stack up more bitcoin, since late last year till date I have made over 19BTC from 2.6BTC with Mrs milly's help, you can easily get to her with this WhatsApp number +1-2-1-0-8-0-6-4-8-8-9\n",
      "\n",
      "Spam - 0.677589 - Never thought it was possible to recover my lost btc until I meet victoolz on insta who helped me...\n",
      "\n",
      "Spam - 0.922504 - Can’t recommend him enough for his tireless effort and tremendous job done Doavercracks on IG his truly the best 💯💯\n",
      "\n",
      "Spam - 0.504149 - 𝟰𝗕𝗧𝗖 𝘄𝗮𝘀 𝘀𝗲𝗻𝘁 𝘁𝗼 𝗺𝘆 𝗯𝗹𝗼𝗰𝗸𝗰𝗵𝗮𝗶𝗻 𝗮𝗰𝗰𝗼𝘂𝗻𝘁 𝗜'𝗺 𝘁𝗵𝗮𝗻𝗸𝗶𝗻𝗴 𝗚𝗼𝗱  𝗳𝗼𝗿 𝘀𝗲𝗻𝗱𝗶𝗻𝗴 𝗜𝗢𝗦𝗧𝗢𝗢𝗟𝗦 𝗼𝗻 !𝗚 𝗳𝗼𝗿 𝘀𝗮𝘃𝗶𝗻𝗴 𝗺𝘆 𝗹𝗶𝗳𝗲\n",
      "\n",
      "HAM - 0.017948 - Good channel in teleg TAKEPROFITPLAN . Lots of cool ideas for free. Check ...\n",
      "\n",
      "HAM - 0.039059 - Amazing video!\n",
      "\n",
      "HAM - 0.028508 - Maybe to make proof of stake system more democraric we can think about share a certain amount of money the validator get to all the other validators?\n",
      "\n",
      "HAM - 0.061911 - I don’t get it 😅😂\n",
      "\n",
      "Spam - 0.859814 - Xavier is wonderful, I traded with him and made huge profits\n",
      "\n",
      "Spam - 0.790149 - Contact Mr. Decuyper for advice\n",
      "\n"
     ]
    }
   ],
   "source": [
    "sms = [\n",
    "    # Seen before\n",
    "    \"That's nice, thanks for replying, you can send a message to my administrator on watsap to earn in crypto especially Bitcoin ...+\\u202a..1..6.1..3..6.0..4..5..7..4..7 He's excellent at what he does, tell him referred you to him. His passionate strategies are top notch the ✌️🇺🇸\",\n",
    "    \n",
    "    # New spam\n",
    "    \"I’m so happy I met RM_KESH01 on Insta he help me recover my lost Erc20 sent to a wrong network I’m so happy because his trusted and reliable\"\n",
    "    \"This is wonderful and unbelievable just got my Bitcoin account back through Doavercracks on ig thanks a lot really appreciate it.\",\n",
    "    \"I recommend y’all to Doavercracks on IG.\",\n",
    "    \"BTC price to volatiles swing, making it historically popular for traders to speculate on. According to bitcoin having cycles, there should be at least other four months in this bull run, so, if the Pi indicator (and bitcoin) might repeat a similar bull run to 2013,that would mean a local top relatively close in time and then another top to end the bull run towards mid year, investor's and trader's find it difficult to decide how best to utilize the current market, holding is profitable but trading is far more profitable, I was able to grasp knowledge of trading crypto assets earlier enough, I didn't think it was possible to make constant win from trading till I come across Mrs milly program for investor's and newbies who lack understanding on how trading BTC works, to help them stack up more bitcoin, since late last year till date I have made over 19BTC from 2.6BTC with Mrs milly's help, you can easily get to her with this WhatsApp number +1-2-1-0-8-0-6-4-8-8-9\",\n",
    "    \"Never thought it was possible to recover my lost btc until I meet victoolz on insta who helped me...\",\n",
    "    \"Can’t recommend him enough for his tireless effort and tremendous job done Doavercracks on IG his truly the best 💯💯\",\n",
    "    \"𝟰𝗕𝗧𝗖 𝘄𝗮𝘀 𝘀𝗲𝗻𝘁 𝘁𝗼 𝗺𝘆 𝗯𝗹𝗼𝗰𝗸𝗰𝗵𝗮𝗶𝗻 𝗮𝗰𝗰𝗼𝘂𝗻𝘁 𝗜'𝗺 𝘁𝗵𝗮𝗻𝗸𝗶𝗻𝗴 𝗚𝗼𝗱  𝗳𝗼𝗿 𝘀𝗲𝗻𝗱𝗶𝗻𝗴 𝗜𝗢𝗦𝗧𝗢𝗢𝗟𝗦 𝗼𝗻 !𝗚 𝗳𝗼𝗿 𝘀𝗮𝘃𝗶𝗻𝗴 𝗺𝘆 𝗹𝗶𝗳𝗲\",\n",
    "    \"Good channel in teleg TAKEPROFITPLAN . Lots of cool ideas for free. Check ...\",\n",
    "    \n",
    "    # Not spam\n",
    "    \"Amazing video!\",\n",
    "    \"Maybe to make proof of stake system more democraric we can think about share a certain amount of money the validator get to all the other validators?\",\n",
    "    \"I don’t get it 😅😂\",\n",
    "    \n",
    "    # Made up spam (definitely not seen before)\n",
    "    \"Xavier is wonderful, I traded with him and made huge profits\",\n",
    "    \"Contact Mr. Decuyper for advice\"\n",
    "\n",
    "]\n",
    "\n",
    "for test in sms:\n",
    "    out = model_prod.predict([test])\n",
    "    print(\"%s - %f - %s\" % (\"Spam\" if out[0] > 0.5 else \"HAM\", out[0], test))\n",
    "    print()"
   ]
  },
  {
   "cell_type": "code",
   "execution_count": null,
   "id": "226685fc",
   "metadata": {},
   "outputs": [],
   "source": []
  }
 ],
 "metadata": {
  "kernelspec": {
   "display_name": "Python 3",
   "language": "python",
   "name": "python3"
  },
  "language_info": {
   "codemirror_mode": {
    "name": "ipython",
    "version": 3
   },
   "file_extension": ".py",
   "mimetype": "text/x-python",
   "name": "python",
   "nbconvert_exporter": "python",
   "pygments_lexer": "ipython3",
   "version": "3.8.10"
  }
 },
 "nbformat": 4,
 "nbformat_minor": 5
}
